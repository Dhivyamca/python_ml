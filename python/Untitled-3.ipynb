{
 "metadata": {
  "language_info": {
   "codemirror_mode": {
    "name": "ipython",
    "version": 3
   },
   "file_extension": ".py",
   "mimetype": "text/x-python",
   "name": "python",
   "nbconvert_exporter": "python",
   "pygments_lexer": "ipython3",
   "version": "3.8.7"
  },
  "orig_nbformat": 2,
  "kernelspec": {
   "name": "python3",
   "display_name": "Python 3.8.7 64-bit",
   "metadata": {
    "interpreter": {
     "hash": "09d279961bf9625707cb254620cad507eb2d4a44de356bc3dcf8e99132d7a735"
    }
   }
  }
 },
 "nbformat": 4,
 "nbformat_minor": 2,
 "cells": [
  {
   "cell_type": "code",
   "execution_count": 4,
   "metadata": {},
   "outputs": [],
   "source": [
    "import psycopg2 as db"
   ]
  },
  {
   "cell_type": "code",
   "execution_count": 5,
   "metadata": {},
   "outputs": [],
   "source": [
    "con=db.connect(host=\"PTPGS0016.ikeadt.com\",\n",
    "                    database=\"rdc\",\n",
    "                    user=\"rcmpc\",\n",
    "                    password=\"rcmpc\")\n"
   ]
  },
  {
   "cell_type": "code",
   "execution_count": 6,
   "metadata": {},
   "outputs": [],
   "source": [
    "cur=con.cursor()"
   ]
  },
  {
   "cell_type": "code",
   "execution_count": 4,
   "metadata": {
    "tags": [
     "outputPrepend"
    ]
   },
   "outputs": [
    {
     "output_type": "stream",
     "name": "stdout",
     "text": [
      "ate 2016-10-18 14:11:23\n",
      "item_no10221586 iip_insert_date 2016-10-18 14:11:23 iip_update_date 2016-10-18 14:11:23\n",
      "item_no10221586 iip_insert_date 2016-10-18 14:11:23 iip_update_date 2016-10-18 14:11:23\n",
      "item_no10221586 iip_insert_date 2016-10-18 14:11:23 iip_update_date 2016-10-18 14:11:23\n",
      "item_no10221586 iip_insert_date 2016-10-18 14:11:23 iip_update_date 2016-10-18 14:11:23\n",
      "item_no10221586 iip_insert_date 2016-10-18 14:11:23 iip_update_date 2016-10-18 14:11:23\n",
      "item_no10221586 iip_insert_date 2016-10-18 14:11:23 iip_update_date 2016-10-18 14:11:23\n",
      "item_no10221586 iip_insert_date 2016-10-18 14:11:23 iip_update_date 2016-10-18 14:11:23\n",
      "item_no10221586 iip_insert_date 2016-10-18 14:11:23 iip_update_date 2016-10-18 14:11:23\n",
      "item_no10221586 iip_insert_date 2016-10-18 14:11:23 iip_update_date 2016-10-18 14:11:23\n",
      "item_no10222524 iip_insert_date 2016-10-18 14:11:23 iip_update_date 2017-10-14 02:02:51\n",
      "item_no10222524 iip_insert_date 2016-10-18 14:11:23 iip_update_date 2017-10-14 02:02:51\n",
      "item_no10222524 iip_insert_date 2016-10-18 14:11:23 iip_update_date 2018-06-21 02:02:38\n",
      "item_no10222524 iip_insert_date 2016-10-18 14:11:23 iip_update_date 2017-10-14 02:02:51\n",
      "item_no10222524 iip_insert_date 2016-10-18 14:11:23 iip_update_date 2017-10-14 02:02:51\n",
      "item_no10222524 iip_insert_date 2016-10-18 14:11:23 iip_update_date 2017-10-14 02:02:51\n",
      "item_no10222524 iip_insert_date 2016-10-18 14:11:23 iip_update_date 2017-10-14 02:02:51\n",
      "item_no10222524 iip_insert_date 2016-10-18 14:11:23 iip_update_date 2017-10-14 02:02:51\n",
      "item_no10222524 iip_insert_date 2016-10-18 14:11:23 iip_update_date 2017-10-14 02:02:51\n",
      "item_no10222538 iip_insert_date 2016-10-18 14:11:23 iip_update_date 2016-10-18 14:11:23\n",
      "item_no10222538 iip_insert_date 2016-10-18 14:11:23 iip_update_date 2016-10-18 14:11:23\n",
      "item_no10222538 iip_insert_date 2016-10-18 14:11:23 iip_update_date 2016-10-18 14:11:23\n",
      "item_no10222543 iip_insert_date 2016-10-18 14:11:23 iip_update_date 2016-10-18 14:11:23\n",
      "item_no10222543 iip_insert_date 2016-10-18 14:11:23 iip_update_date 2016-10-18 14:11:23\n",
      "item_no10222543 iip_insert_date 2016-10-18 14:11:23 iip_update_date 2016-10-18 14:11:23\n",
      "item_no10222543 iip_insert_date 2016-10-18 14:11:23 iip_update_date 2016-10-18 14:11:23\n",
      "item_no10222543 iip_insert_date 2016-10-18 14:11:23 iip_update_date 2016-10-18 14:11:23\n",
      "item_no10222543 iip_insert_date 2016-10-18 14:11:23 iip_update_date 2016-10-18 14:11:23\n",
      "item_no10222543 iip_insert_date 2016-10-18 14:11:23 iip_update_date 2016-10-18 14:11:23\n",
      "item_no10222557 iip_insert_date 2016-10-18 14:11:23 iip_update_date 2016-11-05 02:01:50\n",
      "item_no20447071 iip_insert_date 2018-10-01 02:02:37 iip_update_date 2020-12-05 02:01:03\n",
      "item_no10222557 iip_insert_date 2016-10-18 14:11:23 iip_update_date 2020-12-25 02:00:51\n",
      "item_no10222557 iip_insert_date 2016-10-18 14:11:23 iip_update_date 2016-11-05 02:01:50\n",
      "item_no10222557 iip_insert_date 2016-10-18 14:11:23 iip_update_date 2016-11-05 02:01:50\n",
      "item_no10222557 iip_insert_date 2016-10-18 14:11:23 iip_update_date 2016-11-05 02:01:50\n",
      "item_no10222557 iip_insert_date 2016-10-18 14:11:23 iip_update_date 2016-11-05 02:01:50\n",
      "item_no10222557 iip_insert_date 2016-10-18 14:11:23 iip_update_date 2016-11-05 02:01:50\n",
      "item_no10222557 iip_insert_date 2016-10-18 14:11:23 iip_update_date 2016-11-05 02:01:50\n",
      "item_no10222557 iip_insert_date 2016-10-18 14:11:23 iip_update_date 2016-11-05 02:01:50\n",
      "item_no10222557 iip_insert_date 2016-10-18 14:11:23 iip_update_date 2016-11-05 02:01:50\n",
      "item_no10222557 iip_insert_date 2016-10-18 14:11:23 iip_update_date 2016-11-05 02:01:50\n",
      "item_no10222562 iip_insert_date 2016-10-18 14:11:23 iip_update_date 2016-10-18 14:11:23\n",
      "item_no10222562 iip_insert_date 2016-10-18 14:11:23 iip_update_date 2016-10-18 14:11:23\n",
      "item_no10222562 iip_insert_date 2016-10-18 14:11:23 iip_update_date 2016-10-18 14:11:23\n",
      "item_no10222581 iip_insert_date 2016-10-18 14:11:23 iip_update_date 2018-11-29 02:01:20\n",
      "item_no10222581 iip_insert_date 2016-10-18 14:11:23 iip_update_date 2017-07-13 02:01:31\n",
      "item_no10222581 iip_insert_date 2016-10-18 14:11:23 iip_update_date 2018-11-29 02:01:20\n",
      "item_no10222581 iip_insert_date 2016-10-18 14:11:23 iip_update_date 2018-11-29 02:01:20\n",
      "item_no10222581 iip_insert_date 2016-10-18 14:11:23 iip_update_date 2018-12-05 02:02:01\n",
      "item_no10222581 iip_insert_date 2016-10-18 14:11:23 iip_update_date 2018-11-29 02:01:20\n",
      "item_no10222581 iip_insert_date 2016-10-18 14:11:23 iip_update_date 2018-11-29 02:01:20\n",
      "item_no10222581 iip_insert_date 2016-10-18 14:11:23 iip_update_date 2019-03-19 02:01:08\n",
      "item_no10222581 iip_insert_date 2016-10-18 14:11:23 iip_update_date 2018-11-29 02:01:20\n",
      "item_no10222581 iip_insert_date 2016-10-18 14:11:23 iip_update_date 2019-04-13 02:00:45\n",
      "item_no10222581 iip_insert_date 2016-10-18 14:11:23 iip_update_date 2018-11-29 02:01:20\n",
      "item_no10222581 iip_insert_date 2016-10-18 14:11:23 iip_update_date 2018-11-29 02:01:20\n",
      "item_no10222581 iip_insert_date 2016-10-18 14:11:23 iip_update_date 2018-11-29 02:01:20\n",
      "item_no10222581 iip_insert_date 2016-10-18 14:11:23 iip_update_date 2018-12-05 02:02:01\n",
      "item_no10222581 iip_insert_date 2016-10-18 14:11:23 iip_update_date 2018-11-29 02:01:20\n",
      "item_no10222581 iip_insert_date 2016-10-18 14:11:23 iip_update_date 2018-11-29 02:01:20\n",
      "item_no10222581 iip_insert_date 2016-10-18 14:11:23 iip_update_date 2018-11-29 02:01:20\n",
      "item_no10242433 iip_insert_date 2016-10-18 14:11:23 iip_update_date 2016-10-18 14:11:23\n",
      "item_no10242433 iip_insert_date 2016-10-18 14:11:23 iip_update_date 2016-10-18 14:11:23\n",
      "item_no10242433 iip_insert_date 2016-10-18 14:11:23 iip_update_date 2016-10-18 14:11:23\n",
      "item_no10242433 iip_insert_date 2016-10-18 14:11:23 iip_update_date 2016-10-18 14:11:23\n",
      "item_no10242433 iip_insert_date 2016-10-18 14:11:23 iip_update_date 2016-10-18 14:11:23\n",
      "item_no10242433 iip_insert_date 2016-10-18 14:11:23 iip_update_date 2016-10-18 14:11:23\n",
      "item_no10242433 iip_insert_date 2016-10-18 14:11:23 iip_update_date 2016-10-18 14:11:23\n",
      "item_no10242433 iip_insert_date 2016-10-18 14:11:23 iip_update_date 2016-10-18 14:11:23\n",
      "item_no10242433 iip_insert_date 2016-10-18 14:11:23 iip_update_date 2016-10-18 14:11:23\n",
      "item_no10242433 iip_insert_date 2016-10-18 14:11:23 iip_update_date 2016-10-18 14:11:23\n",
      "item_no10242433 iip_insert_date 2016-10-18 14:11:23 iip_update_date 2016-10-18 14:11:23\n",
      "item_no10242433 iip_insert_date 2016-10-18 14:11:23 iip_update_date 2016-10-18 14:11:23\n",
      "item_no10242433 iip_insert_date 2016-10-18 14:11:23 iip_update_date 2016-10-18 14:11:23\n",
      "item_no10242433 iip_insert_date 2016-10-18 14:11:23 iip_update_date 2016-10-18 14:11:23\n",
      "item_no10242433 iip_insert_date 2016-10-18 14:11:23 iip_update_date 2016-10-18 14:11:23\n",
      "item_no10242433 iip_insert_date 2016-10-18 14:11:23 iip_update_date 2016-10-18 14:11:23\n",
      "item_no10242433 iip_insert_date 2016-10-18 14:11:23 iip_update_date 2016-10-18 14:11:23\n",
      "item_no10242433 iip_insert_date 2016-10-18 14:11:23 iip_update_date 2016-10-18 14:11:23\n",
      "item_no10242433 iip_insert_date 2016-10-18 14:11:23 iip_update_date 2016-10-18 14:11:23\n",
      "item_no10242433 iip_insert_date 2016-10-18 14:11:23 iip_update_date 2016-10-18 14:11:23\n",
      "item_no10242433 iip_insert_date 2016-10-18 14:11:23 iip_update_date 2016-10-18 14:11:23\n",
      "item_no10242433 iip_insert_date 2016-10-18 14:11:23 iip_update_date 2016-10-18 14:11:23\n",
      "item_no10242433 iip_insert_date 2016-10-18 14:11:23 iip_update_date 2016-10-18 14:11:23\n",
      "item_no10242433 iip_insert_date 2016-10-18 14:11:23 iip_update_date 2016-10-18 14:11:23\n",
      "item_no10242433 iip_insert_date 2016-10-18 14:11:23 iip_update_date 2016-10-18 14:11:23\n",
      "item_no10242433 iip_insert_date 2016-10-18 14:11:23 iip_update_date 2016-10-18 14:11:23\n",
      "item_no10242447 iip_insert_date 2016-10-18 14:11:23 iip_update_date 2016-10-18 14:11:23\n",
      "item_no10087615 iip_insert_date 2016-10-18 14:11:23 iip_update_date 2020-09-11 02:01:22\n",
      "item_no10242447 iip_insert_date 2016-10-18 14:11:23 iip_update_date 2016-10-18 14:11:23\n",
      "item_no10242447 iip_insert_date 2016-10-18 14:11:23 iip_update_date 2016-10-18 14:11:23\n",
      "item_no10242447 iip_insert_date 2016-10-18 14:11:23 iip_update_date 2016-10-18 14:11:23\n",
      "item_no10242447 iip_insert_date 2016-10-18 14:11:23 iip_update_date 2016-10-18 14:11:23\n",
      "item_no10242447 iip_insert_date 2016-10-18 14:11:23 iip_update_date 2016-10-18 14:11:23\n",
      "item_no10218862 iip_insert_date 2016-10-18 14:11:23 iip_update_date 2016-10-18 14:11:23\n",
      "item_no10218862 iip_insert_date 2016-10-18 14:11:23 iip_update_date 2016-10-18 14:11:23\n",
      "item_no10218895 iip_insert_date 2016-10-18 14:11:23 iip_update_date 2016-10-18 14:11:23\n",
      "item_no10087615 iip_insert_date 2016-10-18 14:11:23 iip_update_date 2020-09-11 02:01:22\n",
      "item_no10218895 iip_insert_date 2016-10-18 14:11:23 iip_update_date 2016-10-18 14:11:23\n",
      "item_no10218895 iip_insert_date 2016-10-18 14:11:23 iip_update_date 2016-10-18 14:11:23\n",
      "item_no10218895 iip_insert_date 2016-10-18 14:11:23 iip_update_date 2016-10-18 14:11:23\n",
      "item_no10218895 iip_insert_date 2016-10-18 14:11:23 iip_update_date 2016-10-18 14:11:23\n",
      "item_no10218895 iip_insert_date 2016-10-18 14:11:23 iip_update_date 2016-10-18 14:11:23\n",
      "item_no10218895 iip_insert_date 2016-10-18 14:11:23 iip_update_date 2016-10-18 14:11:23\n",
      "item_no10218895 iip_insert_date 2016-10-18 14:11:23 iip_update_date 2016-10-18 14:11:23\n",
      "item_no10218918 iip_insert_date 2016-10-18 14:11:23 iip_update_date 2016-10-18 14:11:23\n",
      "item_no10087615 iip_insert_date 2016-10-18 14:11:23 iip_update_date 2020-09-11 02:01:22\n",
      "item_no10218918 iip_insert_date 2016-10-18 14:11:23 iip_update_date 2016-10-18 14:11:23\n",
      "item_no10218918 iip_insert_date 2016-10-18 14:11:23 iip_update_date 2016-10-18 14:11:23\n",
      "item_no10218918 iip_insert_date 2016-10-18 14:11:23 iip_update_date 2016-10-18 14:11:23\n",
      "item_no10218918 iip_insert_date 2016-10-18 14:11:23 iip_update_date 2016-10-18 14:11:23\n",
      "item_no10218918 iip_insert_date 2016-10-18 14:11:23 iip_update_date 2016-10-18 14:11:23\n",
      "item_no10218918 iip_insert_date 2016-10-18 14:11:23 iip_update_date 2016-10-18 14:11:23\n",
      "item_no10218918 iip_insert_date 2016-10-18 14:11:23 iip_update_date 2016-10-18 14:11:23\n",
      "item_no10218923 iip_insert_date 2016-10-18 14:11:23 iip_update_date 2016-10-18 14:11:23\n",
      "item_no10218923 iip_insert_date 2016-10-18 14:11:23 iip_update_date 2016-10-18 14:11:23\n",
      "item_no10218923 iip_insert_date 2016-10-18 14:11:23 iip_update_date 2016-10-18 14:11:23\n",
      "item_no10222581 iip_insert_date 2016-10-18 14:11:23 iip_update_date 2021-03-14 02:01:19\n",
      "item_no10218923 iip_insert_date 2016-10-18 14:11:23 iip_update_date 2016-10-18 14:11:23\n",
      "item_no10218923 iip_insert_date 2016-10-18 14:11:23 iip_update_date 2016-10-18 14:11:23\n",
      "item_no10218923 iip_insert_date 2016-10-18 14:11:23 iip_update_date 2016-10-18 14:11:23\n",
      "item_no10218923 iip_insert_date 2016-10-18 14:11:23 iip_update_date 2016-10-18 14:11:23\n",
      "item_no10218923 iip_insert_date 2016-10-18 14:11:23 iip_update_date 2016-10-18 14:11:23\n",
      "item_no10218923 iip_insert_date 2016-10-18 14:11:23 iip_update_date 2016-10-18 14:11:23\n",
      "item_no10218923 iip_insert_date 2016-10-18 14:11:23 iip_update_date 2016-10-18 14:11:23\n",
      "item_no10218923 iip_insert_date 2016-10-18 14:11:23 iip_update_date 2016-10-18 14:11:23\n",
      "item_no10218923 iip_insert_date 2016-10-18 14:11:23 iip_update_date 2016-10-18 14:11:23\n",
      "item_no10218923 iip_insert_date 2016-10-18 14:11:23 iip_update_date 2016-10-18 14:11:23\n",
      "item_no10218923 iip_insert_date 2016-10-18 14:11:23 iip_update_date 2016-10-18 14:11:23\n",
      "item_no10218923 iip_insert_date 2016-10-18 14:11:23 iip_update_date 2016-10-18 14:11:23\n",
      "item_no10218923 iip_insert_date 2016-10-18 14:11:23 iip_update_date 2016-10-18 14:11:23\n",
      "item_no10218923 iip_insert_date 2016-10-18 14:11:23 iip_update_date 2016-10-18 14:11:23\n",
      "item_no10218923 iip_insert_date 2016-10-18 14:11:23 iip_update_date 2016-10-18 14:11:23\n",
      "item_no10218923 iip_insert_date 2016-10-18 14:11:23 iip_update_date 2016-10-18 14:11:23\n",
      "item_no10218923 iip_insert_date 2016-10-18 14:11:23 iip_update_date 2016-10-18 14:11:23\n",
      "item_no10218923 iip_insert_date 2016-10-18 14:11:23 iip_update_date 2016-10-18 14:11:23\n",
      "item_no10218923 iip_insert_date 2016-10-18 14:11:23 iip_update_date 2016-10-18 14:11:23\n",
      "item_no10218923 iip_insert_date 2016-10-18 14:11:23 iip_update_date 2016-10-18 14:11:23\n",
      "item_no10218923 iip_insert_date 2016-10-18 14:11:23 iip_update_date 2016-10-18 14:11:23\n",
      "item_no10218923 iip_insert_date 2016-10-18 14:11:23 iip_update_date 2016-10-18 14:11:23\n",
      "item_no10218923 iip_insert_date 2016-10-18 14:11:23 iip_update_date 2016-10-18 14:11:23\n",
      "item_no10218923 iip_insert_date 2016-10-18 14:11:23 iip_update_date 2016-10-18 14:11:23\n",
      "item_no10218923 iip_insert_date 2016-10-18 14:11:23 iip_update_date 2016-10-18 14:11:23\n",
      "item_no10218923 iip_insert_date 2016-10-18 14:11:23 iip_update_date 2016-10-18 14:11:23\n",
      "item_no10218923 iip_insert_date 2016-10-18 14:11:23 iip_update_date 2016-10-18 14:11:23\n",
      "item_no10218923 iip_insert_date 2016-10-18 14:11:23 iip_update_date 2016-10-18 14:11:23\n",
      "item_no10218923 iip_insert_date 2016-10-18 14:11:23 iip_update_date 2016-10-18 14:11:23\n",
      "item_no10218923 iip_insert_date 2016-10-18 14:11:23 iip_update_date 2016-10-18 14:11:23\n",
      "item_no10218923 iip_insert_date 2016-10-18 14:11:23 iip_update_date 2016-10-18 14:11:23\n",
      "item_no10218923 iip_insert_date 2016-10-18 14:11:23 iip_update_date 2016-10-18 14:11:23\n",
      "item_no10218923 iip_insert_date 2016-10-18 14:11:23 iip_update_date 2016-10-18 14:11:23\n",
      "item_no10218923 iip_insert_date 2016-10-18 14:11:23 iip_update_date 2016-10-18 14:11:23\n",
      "item_no10218923 iip_insert_date 2016-10-18 14:11:23 iip_update_date 2016-10-18 14:11:23\n",
      "item_no10218923 iip_insert_date 2016-10-18 14:11:23 iip_update_date 2016-10-18 14:11:23\n",
      "item_no10218923 iip_insert_date 2016-10-18 14:11:23 iip_update_date 2016-10-18 14:11:23\n",
      "item_no10218923 iip_insert_date 2016-10-18 14:11:23 iip_update_date 2016-10-18 14:11:23\n",
      "item_no10218937 iip_insert_date 2016-10-18 14:11:23 iip_update_date 2016-10-18 14:11:23\n",
      "item_no10220501 iip_insert_date 2016-10-18 14:11:23 iip_update_date 2016-10-18 14:11:23\n",
      "item_no10220501 iip_insert_date 2016-10-18 14:11:23 iip_update_date 2016-10-18 14:11:23\n",
      "item_no10220501 iip_insert_date 2016-10-18 14:11:23 iip_update_date 2016-10-18 14:11:23\n",
      "item_no10220501 iip_insert_date 2016-10-18 14:11:23 iip_update_date 2016-10-18 14:11:23\n",
      "item_no10220501 iip_insert_date 2016-10-18 14:11:23 iip_update_date 2016-10-18 14:11:23\n",
      "item_no10220501 iip_insert_date 2016-10-18 14:11:23 iip_update_date 2016-10-18 14:11:23\n",
      "item_no10220501 iip_insert_date 2016-10-18 14:11:23 iip_update_date 2016-10-18 14:11:23\n",
      "item_no10220501 iip_insert_date 2016-10-18 14:11:23 iip_update_date 2016-10-18 14:11:23\n",
      "item_no10220501 iip_insert_date 2016-10-18 14:11:23 iip_update_date 2016-10-18 14:11:23\n",
      "item_no10220501 iip_insert_date 2016-10-18 14:11:23 iip_update_date 2016-10-18 14:11:23\n",
      "item_no10220501 iip_insert_date 2016-10-18 14:11:23 iip_update_date 2016-10-18 14:11:23\n",
      "item_no10220501 iip_insert_date 2016-10-18 14:11:23 iip_update_date 2016-10-18 14:11:23\n",
      "item_no10220501 iip_insert_date 2016-10-18 14:11:23 iip_update_date 2016-10-18 14:11:23\n",
      "item_no10220501 iip_insert_date 2016-10-18 14:11:23 iip_update_date 2016-10-18 14:11:23\n",
      "item_no10220515 iip_insert_date 2016-10-18 14:11:23 iip_update_date 2016-10-18 14:11:23\n",
      "item_no10220638 iip_insert_date 2016-10-18 14:11:23 iip_update_date 2016-10-18 14:11:23\n",
      "item_no10220638 iip_insert_date 2016-10-18 14:11:23 iip_update_date 2016-10-18 14:11:23\n",
      "item_no10220638 iip_insert_date 2016-10-18 14:11:23 iip_update_date 2016-10-18 14:11:23\n",
      "item_no10220638 iip_insert_date 2016-10-18 14:11:23 iip_update_date 2016-10-18 14:11:23\n",
      "item_no10220638 iip_insert_date 2016-10-18 14:11:23 iip_update_date 2016-10-18 14:11:23\n",
      "item_no10220638 iip_insert_date 2016-10-18 14:11:23 iip_update_date 2016-10-18 14:11:23\n",
      "item_no10220638 iip_insert_date 2016-10-18 14:11:23 iip_update_date 2016-10-18 14:11:23\n",
      "item_no10221586 iip_insert_date 2016-10-18 14:11:23 iip_update_date 2016-10-18 14:11:23\n",
      "item_no10221586 iip_insert_date 2016-10-18 14:11:23 iip_update_date 2016-10-18 14:11:23\n",
      "item_no10221586 iip_insert_date 2016-10-18 14:11:23 iip_update_date 2016-10-18 14:11:23\n",
      "item_no10221586 iip_insert_date 2016-10-18 14:11:23 iip_update_date 2016-10-18 14:11:23\n",
      "item_no10221586 iip_insert_date 2016-10-18 14:11:23 iip_update_date 2016-10-18 14:11:23\n",
      "item_no10221586 iip_insert_date 2016-10-18 14:11:23 iip_update_date 2016-10-18 14:11:23\n",
      "item_no10221586 iip_insert_date 2016-10-18 14:11:23 iip_update_date 2016-10-18 14:11:23\n",
      "item_no10221586 iip_insert_date 2016-10-18 14:11:23 iip_update_date 2016-10-18 14:11:23\n",
      "item_no10221586 iip_insert_date 2016-10-18 14:11:23 iip_update_date 2016-10-18 14:11:23\n",
      "item_no10221586 iip_insert_date 2016-10-18 14:11:23 iip_update_date 2016-10-18 14:11:23\n",
      "item_no10221586 iip_insert_date 2016-10-18 14:11:23 iip_update_date 2016-10-18 14:11:23\n",
      "item_no10221586 iip_insert_date 2016-10-18 14:11:23 iip_update_date 2016-10-18 14:11:23\n",
      "item_no10221586 iip_insert_date 2016-10-18 14:11:23 iip_update_date 2016-10-18 14:11:23\n",
      "item_no10221586 iip_insert_date 2016-10-18 14:11:23 iip_update_date 2016-10-18 14:11:23\n",
      "item_no10221586 iip_insert_date 2016-10-18 14:11:23 iip_update_date 2016-10-18 14:11:23\n",
      "item_no10221586 iip_insert_date 2016-10-18 14:11:23 iip_update_date 2016-10-18 14:11:23\n",
      "item_no10221586 iip_insert_date 2016-10-18 14:11:23 iip_update_date 2016-10-18 14:11:23\n",
      "item_no10221586 iip_insert_date 2016-10-18 14:11:23 iip_update_date 2016-10-18 14:11:23\n",
      "item_no10221586 iip_insert_date 2016-10-18 14:11:23 iip_update_date 2016-10-18 14:11:23\n",
      "item_no10221586 iip_insert_date 2016-10-18 14:11:23 iip_update_date 2016-10-18 14:11:23\n",
      "item_no10221586 iip_insert_date 2016-10-18 14:11:23 iip_update_date 2016-10-18 14:11:23\n",
      "item_no10221591 iip_insert_date 2016-10-18 14:11:23 iip_update_date 2016-10-18 14:11:23\n",
      "item_no10221591 iip_insert_date 2016-10-18 14:11:23 iip_update_date 2016-10-18 14:11:23\n",
      "item_no10221591 iip_insert_date 2016-10-18 14:11:23 iip_update_date 2016-10-18 14:11:23\n",
      "item_no10221591 iip_insert_date 2016-10-18 14:11:23 iip_update_date 2016-10-18 14:11:23\n",
      "item_no10221591 iip_insert_date 2016-10-18 14:11:23 iip_update_date 2016-10-18 14:11:23\n",
      "item_no10221591 iip_insert_date 2016-10-18 14:11:23 iip_update_date 2016-10-18 14:11:23\n",
      "item_no10221591 iip_insert_date 2016-10-18 14:11:23 iip_update_date 2016-10-18 14:11:23\n",
      "item_no10221591 iip_insert_date 2016-10-18 14:11:23 iip_update_date 2016-10-18 14:11:23\n",
      "item_no10221591 iip_insert_date 2016-10-18 14:11:23 iip_update_date 2016-10-18 14:11:23\n",
      "item_no10221591 iip_insert_date 2016-10-18 14:11:23 iip_update_date 2016-10-18 14:11:23\n",
      "item_no10221591 iip_insert_date 2016-10-18 14:11:23 iip_update_date 2016-10-18 14:11:23\n",
      "item_no10221591 iip_insert_date 2016-10-18 14:11:23 iip_update_date 2016-10-18 14:11:23\n",
      "item_no10221591 iip_insert_date 2016-10-18 14:11:23 iip_update_date 2016-10-18 14:11:23\n",
      "item_no10221591 iip_insert_date 2016-10-18 14:11:23 iip_update_date 2016-10-18 14:11:23\n",
      "item_no10221591 iip_insert_date 2016-10-18 14:11:23 iip_update_date 2016-10-18 14:11:23\n",
      "item_no10221591 iip_insert_date 2016-10-18 14:11:23 iip_update_date 2016-10-18 14:11:23\n",
      "item_no10221591 iip_insert_date 2016-10-18 14:11:23 iip_update_date 2016-10-18 14:11:23\n",
      "item_no10221591 iip_insert_date 2016-10-18 14:11:23 iip_update_date 2016-10-18 14:11:23\n",
      "item_no10221591 iip_insert_date 2016-10-18 14:11:23 iip_update_date 2016-10-18 14:11:23\n",
      "item_no10221591 iip_insert_date 2016-10-18 14:11:23 iip_update_date 2016-10-18 14:11:23\n",
      "item_no10221591 iip_insert_date 2016-10-18 14:11:23 iip_update_date 2016-10-18 14:11:23\n",
      "item_no10221591 iip_insert_date 2016-10-18 14:11:23 iip_update_date 2016-10-18 14:11:23\n",
      "item_no10221591 iip_insert_date 2016-10-18 14:11:23 iip_update_date 2016-10-18 14:11:23\n",
      "item_no10221591 iip_insert_date 2016-10-18 14:11:23 iip_update_date 2016-10-18 14:11:23\n",
      "item_no10221591 iip_insert_date 2016-10-18 14:11:23 iip_update_date 2016-10-18 14:11:23\n",
      "item_no10221591 iip_insert_date 2016-10-18 14:11:23 iip_update_date 2016-10-18 14:11:23\n",
      "item_no10221591 iip_insert_date 2016-10-18 14:11:23 iip_update_date 2016-10-18 14:11:23\n",
      "item_no10221591 iip_insert_date 2016-10-18 14:11:23 iip_update_date 2016-10-18 14:11:23\n"
     ]
    }
   ],
   "source": [
    "cur.execute(\"select item_no ,iip_insert_date ,iip_update_date from rcmpc_cem.cem_item_bu_range_t cibrt\")\n",
    "rows=cur.fetchall()\n",
    "for r in rows:\n",
    "    print(f\"item_no{r[0]} iip_insert_date {r[1]} iip_update_date {r[2]}\")\n",
    "cur.close()\n",
    "con.close()"
   ]
  },
  {
   "cell_type": "code",
   "execution_count": 7,
   "metadata": {},
   "outputs": [],
   "source": [
    "cur.execute(\"select 'Item Sales Delta' as attribute,count(1) as cnt from (select item_no,iip_update_date from rcmpc_cem.cem_cre_item_bu_range_t ccibrt union select item_no,iip_update_date from rcmpc_cem.cem_cre_item_bu_range_t ccibrt2 ) a where iip_update_date::date between to_Date('2019-06-04','YYYY-MM-DD') and  to_Date('2019-06-05','YYYY-MM-DD');\")\n"
   ]
  },
  {
   "cell_type": "code",
   "execution_count": 8,
   "metadata": {},
   "outputs": [
    {
     "output_type": "execute_result",
     "data": {
      "text/plain": [
       "('Item Sales Delta', 158)"
      ]
     },
     "metadata": {},
     "execution_count": 8
    }
   ],
   "source": [
    "cur.fetchone()"
   ]
  },
  {
   "cell_type": "code",
   "execution_count": 11,
   "metadata": {},
   "outputs": [],
   "source": [
    "cur.execute(\"select 'Item Sales Delta' as attribute,count(1) as cnt from (select item_no,iip_update_date from rcmpc_cem.cem_cre_item_bu_range_t ccibrt union select item_no,iip_update_date from rcmpc_cem.cem_cre_item_bu_range_t ccibrt2 ) a where iip_update_date::date between to_Date('2019-06-04','YYYY-MM-DD') and  to_Date('2019-06-05','YYYY-MM-DD') UNION select 'Item CCL Delta' as attribute,count(1) as cnt from (select item_no,iip_update_date from rcmpc_cem.cem_cre_item_bu_comclass_t ccibct  union select item_no,iip_update_date from rcmpc_cem.cem_item_bu_comclass_t ccibrt2 ) a where iip_update_date::date between to_Date('2019-06-04','YYYY-MM-DD') and  to_Date('2019-06-05','YYYY-MM-DD') UNION select 'Item ROC Delta' as attribute,count(1) as cnt from (select item_no,iip_update_date from rcmpc_cem.cem_cre_item_rangeoffer_t ccirt   union select item_no,iip_update_date from rcmpc_cem.cem_item_rangeoffer_t ccibrt2 ) a where iip_update_date::date between to_Date('2019-06-04','YYYY-MM-DD') and  to_Date('2019-06-05','YYYY-MM-DD') UNION select 'Item ROCC Delta' as attribute,count(1) as cnt from (select item_no,iip_update_date from rcmpc_cem.cem_cre_item_rangeo_cri_t ccirct     union select item_no,iip_update_date from rcmpc_cem.cem_item_rangeoffer_cri_t circt2  ) a where iip_update_date::date between to_Date('2019-06-04','YYYY-MM-DD') and  to_Date('2019-06-05','YYYY-MM-DD');\")"
   ]
  },
  {
   "cell_type": "code",
   "execution_count": 12,
   "metadata": {},
   "outputs": [
    {
     "output_type": "execute_result",
     "data": {
      "text/plain": [
       "[('Item ROCC Delta', 268),\n",
       " ('Item CCL Delta', 490),\n",
       " ('Item ROC Delta', 265),\n",
       " ('Item Sales Delta', 158)]"
      ]
     },
     "metadata": {},
     "execution_count": 12
    }
   ],
   "source": [
    "cur.fetchall()"
   ]
  },
  {
   "cell_type": "code",
   "execution_count": 13,
   "metadata": {},
   "outputs": [
    {
     "output_type": "execute_result",
     "data": {
      "text/plain": [
       "[<matplotlib.lines.Line2D at 0x1c1530ed6d0>]"
      ]
     },
     "metadata": {},
     "execution_count": 13
    },
    {
     "output_type": "display_data",
     "data": {
      "text/plain": "<Figure size 432x288 with 1 Axes>",
      "image/svg+xml": "<?xml version=\"1.0\" encoding=\"utf-8\" standalone=\"no\"?>\r\n<!DOCTYPE svg PUBLIC \"-//W3C//DTD SVG 1.1//EN\"\r\n  \"http://www.w3.org/Graphics/SVG/1.1/DTD/svg11.dtd\">\r\n<svg height=\"248.518125pt\" version=\"1.1\" viewBox=\"0 0 402.265199 248.518125\" width=\"402.265199pt\" xmlns=\"http://www.w3.org/2000/svg\" xmlns:xlink=\"http://www.w3.org/1999/xlink\">\r\n <metadata>\r\n  <rdf:RDF xmlns:cc=\"http://creativecommons.org/ns#\" xmlns:dc=\"http://purl.org/dc/elements/1.1/\" xmlns:rdf=\"http://www.w3.org/1999/02/22-rdf-syntax-ns#\">\r\n   <cc:Work>\r\n    <dc:type rdf:resource=\"http://purl.org/dc/dcmitype/StillImage\"/>\r\n    <dc:date>2021-05-07T09:18:19.199913</dc:date>\r\n    <dc:format>image/svg+xml</dc:format>\r\n    <dc:creator>\r\n     <cc:Agent>\r\n      <dc:title>Matplotlib v3.4.0, https://matplotlib.org/</dc:title>\r\n     </cc:Agent>\r\n    </dc:creator>\r\n   </cc:Work>\r\n  </rdf:RDF>\r\n </metadata>\r\n <defs>\r\n  <style type=\"text/css\">*{stroke-linecap:butt;stroke-linejoin:round;}</style>\r\n </defs>\r\n <g id=\"figure_1\">\r\n  <g id=\"patch_1\">\r\n   <path d=\"M 0 248.518125 \r\nL 402.265199 248.518125 \r\nL 402.265199 0 \r\nL 0 0 \r\nz\r\n\" style=\"fill:none;\"/>\r\n  </g>\r\n  <g id=\"axes_1\">\r\n   <g id=\"patch_2\">\r\n    <path d=\"M 34.274787 224.64 \r\nL 369.074787 224.64 \r\nL 369.074787 7.2 \r\nL 34.274787 7.2 \r\nz\r\n\" style=\"fill:#ffffff;\"/>\r\n   </g>\r\n   <g id=\"matplotlib.axis_1\">\r\n    <g id=\"xtick_1\">\r\n     <g id=\"line2d_1\">\r\n      <defs>\r\n       <path d=\"M 0 0 \r\nL 0 3.5 \r\n\" id=\"m25cae7c719\" style=\"stroke:#000000;stroke-width:0.8;\"/>\r\n      </defs>\r\n      <g>\r\n       <use style=\"stroke:#000000;stroke-width:0.8;\" x=\"49.492969\" xlink:href=\"#m25cae7c719\" y=\"224.64\"/>\r\n      </g>\r\n     </g>\r\n     <g id=\"text_1\">\r\n      <!-- Item ROCC Delta -->\r\n      <g transform=\"translate(7.2 239.238437)scale(0.1 -0.1)\">\r\n       <defs>\r\n        <path d=\"M 628 4666 \r\nL 1259 4666 \r\nL 1259 0 \r\nL 628 0 \r\nL 628 4666 \r\nz\r\n\" id=\"DejaVuSans-49\" transform=\"scale(0.015625)\"/>\r\n        <path d=\"M 1172 4494 \r\nL 1172 3500 \r\nL 2356 3500 \r\nL 2356 3053 \r\nL 1172 3053 \r\nL 1172 1153 \r\nQ 1172 725 1289 603 \r\nQ 1406 481 1766 481 \r\nL 2356 481 \r\nL 2356 0 \r\nL 1766 0 \r\nQ 1100 0 847 248 \r\nQ 594 497 594 1153 \r\nL 594 3053 \r\nL 172 3053 \r\nL 172 3500 \r\nL 594 3500 \r\nL 594 4494 \r\nL 1172 4494 \r\nz\r\n\" id=\"DejaVuSans-74\" transform=\"scale(0.015625)\"/>\r\n        <path d=\"M 3597 1894 \r\nL 3597 1613 \r\nL 953 1613 \r\nQ 991 1019 1311 708 \r\nQ 1631 397 2203 397 \r\nQ 2534 397 2845 478 \r\nQ 3156 559 3463 722 \r\nL 3463 178 \r\nQ 3153 47 2828 -22 \r\nQ 2503 -91 2169 -91 \r\nQ 1331 -91 842 396 \r\nQ 353 884 353 1716 \r\nQ 353 2575 817 3079 \r\nQ 1281 3584 2069 3584 \r\nQ 2775 3584 3186 3129 \r\nQ 3597 2675 3597 1894 \r\nz\r\nM 3022 2063 \r\nQ 3016 2534 2758 2815 \r\nQ 2500 3097 2075 3097 \r\nQ 1594 3097 1305 2825 \r\nQ 1016 2553 972 2059 \r\nL 3022 2063 \r\nz\r\n\" id=\"DejaVuSans-65\" transform=\"scale(0.015625)\"/>\r\n        <path d=\"M 3328 2828 \r\nQ 3544 3216 3844 3400 \r\nQ 4144 3584 4550 3584 \r\nQ 5097 3584 5394 3201 \r\nQ 5691 2819 5691 2113 \r\nL 5691 0 \r\nL 5113 0 \r\nL 5113 2094 \r\nQ 5113 2597 4934 2840 \r\nQ 4756 3084 4391 3084 \r\nQ 3944 3084 3684 2787 \r\nQ 3425 2491 3425 1978 \r\nL 3425 0 \r\nL 2847 0 \r\nL 2847 2094 \r\nQ 2847 2600 2669 2842 \r\nQ 2491 3084 2119 3084 \r\nQ 1678 3084 1418 2786 \r\nQ 1159 2488 1159 1978 \r\nL 1159 0 \r\nL 581 0 \r\nL 581 3500 \r\nL 1159 3500 \r\nL 1159 2956 \r\nQ 1356 3278 1631 3431 \r\nQ 1906 3584 2284 3584 \r\nQ 2666 3584 2933 3390 \r\nQ 3200 3197 3328 2828 \r\nz\r\n\" id=\"DejaVuSans-6d\" transform=\"scale(0.015625)\"/>\r\n        <path id=\"DejaVuSans-20\" transform=\"scale(0.015625)\"/>\r\n        <path d=\"M 2841 2188 \r\nQ 3044 2119 3236 1894 \r\nQ 3428 1669 3622 1275 \r\nL 4263 0 \r\nL 3584 0 \r\nL 2988 1197 \r\nQ 2756 1666 2539 1819 \r\nQ 2322 1972 1947 1972 \r\nL 1259 1972 \r\nL 1259 0 \r\nL 628 0 \r\nL 628 4666 \r\nL 2053 4666 \r\nQ 2853 4666 3247 4331 \r\nQ 3641 3997 3641 3322 \r\nQ 3641 2881 3436 2590 \r\nQ 3231 2300 2841 2188 \r\nz\r\nM 1259 4147 \r\nL 1259 2491 \r\nL 2053 2491 \r\nQ 2509 2491 2742 2702 \r\nQ 2975 2913 2975 3322 \r\nQ 2975 3731 2742 3939 \r\nQ 2509 4147 2053 4147 \r\nL 1259 4147 \r\nz\r\n\" id=\"DejaVuSans-52\" transform=\"scale(0.015625)\"/>\r\n        <path d=\"M 2522 4238 \r\nQ 1834 4238 1429 3725 \r\nQ 1025 3213 1025 2328 \r\nQ 1025 1447 1429 934 \r\nQ 1834 422 2522 422 \r\nQ 3209 422 3611 934 \r\nQ 4013 1447 4013 2328 \r\nQ 4013 3213 3611 3725 \r\nQ 3209 4238 2522 4238 \r\nz\r\nM 2522 4750 \r\nQ 3503 4750 4090 4092 \r\nQ 4678 3434 4678 2328 \r\nQ 4678 1225 4090 567 \r\nQ 3503 -91 2522 -91 \r\nQ 1538 -91 948 565 \r\nQ 359 1222 359 2328 \r\nQ 359 3434 948 4092 \r\nQ 1538 4750 2522 4750 \r\nz\r\n\" id=\"DejaVuSans-4f\" transform=\"scale(0.015625)\"/>\r\n        <path d=\"M 4122 4306 \r\nL 4122 3641 \r\nQ 3803 3938 3442 4084 \r\nQ 3081 4231 2675 4231 \r\nQ 1875 4231 1450 3742 \r\nQ 1025 3253 1025 2328 \r\nQ 1025 1406 1450 917 \r\nQ 1875 428 2675 428 \r\nQ 3081 428 3442 575 \r\nQ 3803 722 4122 1019 \r\nL 4122 359 \r\nQ 3791 134 3420 21 \r\nQ 3050 -91 2638 -91 \r\nQ 1578 -91 968 557 \r\nQ 359 1206 359 2328 \r\nQ 359 3453 968 4101 \r\nQ 1578 4750 2638 4750 \r\nQ 3056 4750 3426 4639 \r\nQ 3797 4528 4122 4306 \r\nz\r\n\" id=\"DejaVuSans-43\" transform=\"scale(0.015625)\"/>\r\n        <path d=\"M 1259 4147 \r\nL 1259 519 \r\nL 2022 519 \r\nQ 2988 519 3436 956 \r\nQ 3884 1394 3884 2338 \r\nQ 3884 3275 3436 3711 \r\nQ 2988 4147 2022 4147 \r\nL 1259 4147 \r\nz\r\nM 628 4666 \r\nL 1925 4666 \r\nQ 3281 4666 3915 4102 \r\nQ 4550 3538 4550 2338 \r\nQ 4550 1131 3912 565 \r\nQ 3275 0 1925 0 \r\nL 628 0 \r\nL 628 4666 \r\nz\r\n\" id=\"DejaVuSans-44\" transform=\"scale(0.015625)\"/>\r\n        <path d=\"M 603 4863 \r\nL 1178 4863 \r\nL 1178 0 \r\nL 603 0 \r\nL 603 4863 \r\nz\r\n\" id=\"DejaVuSans-6c\" transform=\"scale(0.015625)\"/>\r\n        <path d=\"M 2194 1759 \r\nQ 1497 1759 1228 1600 \r\nQ 959 1441 959 1056 \r\nQ 959 750 1161 570 \r\nQ 1363 391 1709 391 \r\nQ 2188 391 2477 730 \r\nQ 2766 1069 2766 1631 \r\nL 2766 1759 \r\nL 2194 1759 \r\nz\r\nM 3341 1997 \r\nL 3341 0 \r\nL 2766 0 \r\nL 2766 531 \r\nQ 2569 213 2275 61 \r\nQ 1981 -91 1556 -91 \r\nQ 1019 -91 701 211 \r\nQ 384 513 384 1019 \r\nQ 384 1609 779 1909 \r\nQ 1175 2209 1959 2209 \r\nL 2766 2209 \r\nL 2766 2266 \r\nQ 2766 2663 2505 2880 \r\nQ 2244 3097 1772 3097 \r\nQ 1472 3097 1187 3025 \r\nQ 903 2953 641 2809 \r\nL 641 3341 \r\nQ 956 3463 1253 3523 \r\nQ 1550 3584 1831 3584 \r\nQ 2591 3584 2966 3190 \r\nQ 3341 2797 3341 1997 \r\nz\r\n\" id=\"DejaVuSans-61\" transform=\"scale(0.015625)\"/>\r\n       </defs>\r\n       <use xlink:href=\"#DejaVuSans-49\"/>\r\n       <use x=\"29.492188\" xlink:href=\"#DejaVuSans-74\"/>\r\n       <use x=\"68.701172\" xlink:href=\"#DejaVuSans-65\"/>\r\n       <use x=\"130.224609\" xlink:href=\"#DejaVuSans-6d\"/>\r\n       <use x=\"227.636719\" xlink:href=\"#DejaVuSans-20\"/>\r\n       <use x=\"259.423828\" xlink:href=\"#DejaVuSans-52\"/>\r\n       <use x=\"328.90625\" xlink:href=\"#DejaVuSans-4f\"/>\r\n       <use x=\"407.617188\" xlink:href=\"#DejaVuSans-43\"/>\r\n       <use x=\"477.441406\" xlink:href=\"#DejaVuSans-43\"/>\r\n       <use x=\"547.265625\" xlink:href=\"#DejaVuSans-20\"/>\r\n       <use x=\"579.052734\" xlink:href=\"#DejaVuSans-44\"/>\r\n       <use x=\"656.054688\" xlink:href=\"#DejaVuSans-65\"/>\r\n       <use x=\"717.578125\" xlink:href=\"#DejaVuSans-6c\"/>\r\n       <use x=\"745.361328\" xlink:href=\"#DejaVuSans-74\"/>\r\n       <use x=\"784.570312\" xlink:href=\"#DejaVuSans-61\"/>\r\n      </g>\r\n     </g>\r\n    </g>\r\n    <g id=\"xtick_2\">\r\n     <g id=\"line2d_2\">\r\n      <g>\r\n       <use style=\"stroke:#000000;stroke-width:0.8;\" x=\"150.947514\" xlink:href=\"#m25cae7c719\" y=\"224.64\"/>\r\n      </g>\r\n     </g>\r\n     <g id=\"text_2\">\r\n      <!-- Item CCL Delta -->\r\n      <g transform=\"translate(113.278764 239.238437)scale(0.1 -0.1)\">\r\n       <defs>\r\n        <path d=\"M 628 4666 \r\nL 1259 4666 \r\nL 1259 531 \r\nL 3531 531 \r\nL 3531 0 \r\nL 628 0 \r\nL 628 4666 \r\nz\r\n\" id=\"DejaVuSans-4c\" transform=\"scale(0.015625)\"/>\r\n       </defs>\r\n       <use xlink:href=\"#DejaVuSans-49\"/>\r\n       <use x=\"29.492188\" xlink:href=\"#DejaVuSans-74\"/>\r\n       <use x=\"68.701172\" xlink:href=\"#DejaVuSans-65\"/>\r\n       <use x=\"130.224609\" xlink:href=\"#DejaVuSans-6d\"/>\r\n       <use x=\"227.636719\" xlink:href=\"#DejaVuSans-20\"/>\r\n       <use x=\"259.423828\" xlink:href=\"#DejaVuSans-43\"/>\r\n       <use x=\"329.248047\" xlink:href=\"#DejaVuSans-43\"/>\r\n       <use x=\"399.072266\" xlink:href=\"#DejaVuSans-4c\"/>\r\n       <use x=\"454.785156\" xlink:href=\"#DejaVuSans-20\"/>\r\n       <use x=\"486.572266\" xlink:href=\"#DejaVuSans-44\"/>\r\n       <use x=\"563.574219\" xlink:href=\"#DejaVuSans-65\"/>\r\n       <use x=\"625.097656\" xlink:href=\"#DejaVuSans-6c\"/>\r\n       <use x=\"652.880859\" xlink:href=\"#DejaVuSans-74\"/>\r\n       <use x=\"692.089844\" xlink:href=\"#DejaVuSans-61\"/>\r\n      </g>\r\n     </g>\r\n    </g>\r\n    <g id=\"xtick_3\">\r\n     <g id=\"line2d_3\">\r\n      <g>\r\n       <use style=\"stroke:#000000;stroke-width:0.8;\" x=\"252.40206\" xlink:href=\"#m25cae7c719\" y=\"224.64\"/>\r\n      </g>\r\n     </g>\r\n     <g id=\"text_3\">\r\n      <!-- Item ROC Delta -->\r\n      <g transform=\"translate(213.600497 239.238437)scale(0.1 -0.1)\">\r\n       <use xlink:href=\"#DejaVuSans-49\"/>\r\n       <use x=\"29.492188\" xlink:href=\"#DejaVuSans-74\"/>\r\n       <use x=\"68.701172\" xlink:href=\"#DejaVuSans-65\"/>\r\n       <use x=\"130.224609\" xlink:href=\"#DejaVuSans-6d\"/>\r\n       <use x=\"227.636719\" xlink:href=\"#DejaVuSans-20\"/>\r\n       <use x=\"259.423828\" xlink:href=\"#DejaVuSans-52\"/>\r\n       <use x=\"328.90625\" xlink:href=\"#DejaVuSans-4f\"/>\r\n       <use x=\"407.617188\" xlink:href=\"#DejaVuSans-43\"/>\r\n       <use x=\"477.441406\" xlink:href=\"#DejaVuSans-20\"/>\r\n       <use x=\"509.228516\" xlink:href=\"#DejaVuSans-44\"/>\r\n       <use x=\"586.230469\" xlink:href=\"#DejaVuSans-65\"/>\r\n       <use x=\"647.753906\" xlink:href=\"#DejaVuSans-6c\"/>\r\n       <use x=\"675.537109\" xlink:href=\"#DejaVuSans-74\"/>\r\n       <use x=\"714.746094\" xlink:href=\"#DejaVuSans-61\"/>\r\n      </g>\r\n     </g>\r\n    </g>\r\n    <g id=\"xtick_4\">\r\n     <g id=\"line2d_4\">\r\n      <g>\r\n       <use style=\"stroke:#000000;stroke-width:0.8;\" x=\"353.856605\" xlink:href=\"#m25cae7c719\" y=\"224.64\"/>\r\n      </g>\r\n     </g>\r\n     <g id=\"text_4\">\r\n      <!-- Item Sales Delta -->\r\n      <g transform=\"translate(312.648011 239.238437)scale(0.1 -0.1)\">\r\n       <defs>\r\n        <path d=\"M 3425 4513 \r\nL 3425 3897 \r\nQ 3066 4069 2747 4153 \r\nQ 2428 4238 2131 4238 \r\nQ 1616 4238 1336 4038 \r\nQ 1056 3838 1056 3469 \r\nQ 1056 3159 1242 3001 \r\nQ 1428 2844 1947 2747 \r\nL 2328 2669 \r\nQ 3034 2534 3370 2195 \r\nQ 3706 1856 3706 1288 \r\nQ 3706 609 3251 259 \r\nQ 2797 -91 1919 -91 \r\nQ 1588 -91 1214 -16 \r\nQ 841 59 441 206 \r\nL 441 856 \r\nQ 825 641 1194 531 \r\nQ 1563 422 1919 422 \r\nQ 2459 422 2753 634 \r\nQ 3047 847 3047 1241 \r\nQ 3047 1584 2836 1778 \r\nQ 2625 1972 2144 2069 \r\nL 1759 2144 \r\nQ 1053 2284 737 2584 \r\nQ 422 2884 422 3419 \r\nQ 422 4038 858 4394 \r\nQ 1294 4750 2059 4750 \r\nQ 2388 4750 2728 4690 \r\nQ 3069 4631 3425 4513 \r\nz\r\n\" id=\"DejaVuSans-53\" transform=\"scale(0.015625)\"/>\r\n        <path d=\"M 2834 3397 \r\nL 2834 2853 \r\nQ 2591 2978 2328 3040 \r\nQ 2066 3103 1784 3103 \r\nQ 1356 3103 1142 2972 \r\nQ 928 2841 928 2578 \r\nQ 928 2378 1081 2264 \r\nQ 1234 2150 1697 2047 \r\nL 1894 2003 \r\nQ 2506 1872 2764 1633 \r\nQ 3022 1394 3022 966 \r\nQ 3022 478 2636 193 \r\nQ 2250 -91 1575 -91 \r\nQ 1294 -91 989 -36 \r\nQ 684 19 347 128 \r\nL 347 722 \r\nQ 666 556 975 473 \r\nQ 1284 391 1588 391 \r\nQ 1994 391 2212 530 \r\nQ 2431 669 2431 922 \r\nQ 2431 1156 2273 1281 \r\nQ 2116 1406 1581 1522 \r\nL 1381 1569 \r\nQ 847 1681 609 1914 \r\nQ 372 2147 372 2553 \r\nQ 372 3047 722 3315 \r\nQ 1072 3584 1716 3584 \r\nQ 2034 3584 2315 3537 \r\nQ 2597 3491 2834 3397 \r\nz\r\n\" id=\"DejaVuSans-73\" transform=\"scale(0.015625)\"/>\r\n       </defs>\r\n       <use xlink:href=\"#DejaVuSans-49\"/>\r\n       <use x=\"29.492188\" xlink:href=\"#DejaVuSans-74\"/>\r\n       <use x=\"68.701172\" xlink:href=\"#DejaVuSans-65\"/>\r\n       <use x=\"130.224609\" xlink:href=\"#DejaVuSans-6d\"/>\r\n       <use x=\"227.636719\" xlink:href=\"#DejaVuSans-20\"/>\r\n       <use x=\"259.423828\" xlink:href=\"#DejaVuSans-53\"/>\r\n       <use x=\"322.900391\" xlink:href=\"#DejaVuSans-61\"/>\r\n       <use x=\"384.179688\" xlink:href=\"#DejaVuSans-6c\"/>\r\n       <use x=\"411.962891\" xlink:href=\"#DejaVuSans-65\"/>\r\n       <use x=\"473.486328\" xlink:href=\"#DejaVuSans-73\"/>\r\n       <use x=\"525.585938\" xlink:href=\"#DejaVuSans-20\"/>\r\n       <use x=\"557.373047\" xlink:href=\"#DejaVuSans-44\"/>\r\n       <use x=\"634.375\" xlink:href=\"#DejaVuSans-65\"/>\r\n       <use x=\"695.898438\" xlink:href=\"#DejaVuSans-6c\"/>\r\n       <use x=\"723.681641\" xlink:href=\"#DejaVuSans-74\"/>\r\n       <use x=\"762.890625\" xlink:href=\"#DejaVuSans-61\"/>\r\n      </g>\r\n     </g>\r\n    </g>\r\n   </g>\r\n   <g id=\"matplotlib.axis_2\">\r\n    <g id=\"ytick_1\">\r\n     <g id=\"line2d_5\">\r\n      <defs>\r\n       <path d=\"M 0 0 \r\nL -3.5 0 \r\n\" id=\"mb67ddb2936\" style=\"stroke:#000000;stroke-width:0.8;\"/>\r\n      </defs>\r\n      <g>\r\n       <use style=\"stroke:#000000;stroke-width:0.8;\" x=\"34.274787\" xlink:href=\"#mb67ddb2936\" y=\"219.519562\"/>\r\n      </g>\r\n     </g>\r\n     <g id=\"text_5\">\r\n      <!-- 150 -->\r\n      <g transform=\"translate(8.187287 223.318781)scale(0.1 -0.1)\">\r\n       <defs>\r\n        <path d=\"M 794 531 \r\nL 1825 531 \r\nL 1825 4091 \r\nL 703 3866 \r\nL 703 4441 \r\nL 1819 4666 \r\nL 2450 4666 \r\nL 2450 531 \r\nL 3481 531 \r\nL 3481 0 \r\nL 794 0 \r\nL 794 531 \r\nz\r\n\" id=\"DejaVuSans-31\" transform=\"scale(0.015625)\"/>\r\n        <path d=\"M 691 4666 \r\nL 3169 4666 \r\nL 3169 4134 \r\nL 1269 4134 \r\nL 1269 2991 \r\nQ 1406 3038 1543 3061 \r\nQ 1681 3084 1819 3084 \r\nQ 2600 3084 3056 2656 \r\nQ 3513 2228 3513 1497 \r\nQ 3513 744 3044 326 \r\nQ 2575 -91 1722 -91 \r\nQ 1428 -91 1123 -41 \r\nQ 819 9 494 109 \r\nL 494 744 \r\nQ 775 591 1075 516 \r\nQ 1375 441 1709 441 \r\nQ 2250 441 2565 725 \r\nQ 2881 1009 2881 1497 \r\nQ 2881 1984 2565 2268 \r\nQ 2250 2553 1709 2553 \r\nQ 1456 2553 1204 2497 \r\nQ 953 2441 691 2322 \r\nL 691 4666 \r\nz\r\n\" id=\"DejaVuSans-35\" transform=\"scale(0.015625)\"/>\r\n        <path d=\"M 2034 4250 \r\nQ 1547 4250 1301 3770 \r\nQ 1056 3291 1056 2328 \r\nQ 1056 1369 1301 889 \r\nQ 1547 409 2034 409 \r\nQ 2525 409 2770 889 \r\nQ 3016 1369 3016 2328 \r\nQ 3016 3291 2770 3770 \r\nQ 2525 4250 2034 4250 \r\nz\r\nM 2034 4750 \r\nQ 2819 4750 3233 4129 \r\nQ 3647 3509 3647 2328 \r\nQ 3647 1150 3233 529 \r\nQ 2819 -91 2034 -91 \r\nQ 1250 -91 836 529 \r\nQ 422 1150 422 2328 \r\nQ 422 3509 836 4129 \r\nQ 1250 4750 2034 4750 \r\nz\r\n\" id=\"DejaVuSans-30\" transform=\"scale(0.015625)\"/>\r\n       </defs>\r\n       <use xlink:href=\"#DejaVuSans-31\"/>\r\n       <use x=\"63.623047\" xlink:href=\"#DejaVuSans-35\"/>\r\n       <use x=\"127.246094\" xlink:href=\"#DejaVuSans-30\"/>\r\n      </g>\r\n     </g>\r\n    </g>\r\n    <g id=\"ytick_2\">\r\n     <g id=\"line2d_6\">\r\n      <g>\r\n       <use style=\"stroke:#000000;stroke-width:0.8;\" x=\"34.274787\" xlink:href=\"#mb67ddb2936\" y=\"189.749573\"/>\r\n      </g>\r\n     </g>\r\n     <g id=\"text_6\">\r\n      <!-- 200 -->\r\n      <g transform=\"translate(8.187287 193.548792)scale(0.1 -0.1)\">\r\n       <defs>\r\n        <path d=\"M 1228 531 \r\nL 3431 531 \r\nL 3431 0 \r\nL 469 0 \r\nL 469 531 \r\nQ 828 903 1448 1529 \r\nQ 2069 2156 2228 2338 \r\nQ 2531 2678 2651 2914 \r\nQ 2772 3150 2772 3378 \r\nQ 2772 3750 2511 3984 \r\nQ 2250 4219 1831 4219 \r\nQ 1534 4219 1204 4116 \r\nQ 875 4013 500 3803 \r\nL 500 4441 \r\nQ 881 4594 1212 4672 \r\nQ 1544 4750 1819 4750 \r\nQ 2544 4750 2975 4387 \r\nQ 3406 4025 3406 3419 \r\nQ 3406 3131 3298 2873 \r\nQ 3191 2616 2906 2266 \r\nQ 2828 2175 2409 1742 \r\nQ 1991 1309 1228 531 \r\nz\r\n\" id=\"DejaVuSans-32\" transform=\"scale(0.015625)\"/>\r\n       </defs>\r\n       <use xlink:href=\"#DejaVuSans-32\"/>\r\n       <use x=\"63.623047\" xlink:href=\"#DejaVuSans-30\"/>\r\n       <use x=\"127.246094\" xlink:href=\"#DejaVuSans-30\"/>\r\n      </g>\r\n     </g>\r\n    </g>\r\n    <g id=\"ytick_3\">\r\n     <g id=\"line2d_7\">\r\n      <g>\r\n       <use style=\"stroke:#000000;stroke-width:0.8;\" x=\"34.274787\" xlink:href=\"#mb67ddb2936\" y=\"159.979584\"/>\r\n      </g>\r\n     </g>\r\n     <g id=\"text_7\">\r\n      <!-- 250 -->\r\n      <g transform=\"translate(8.187287 163.778803)scale(0.1 -0.1)\">\r\n       <use xlink:href=\"#DejaVuSans-32\"/>\r\n       <use x=\"63.623047\" xlink:href=\"#DejaVuSans-35\"/>\r\n       <use x=\"127.246094\" xlink:href=\"#DejaVuSans-30\"/>\r\n      </g>\r\n     </g>\r\n    </g>\r\n    <g id=\"ytick_4\">\r\n     <g id=\"line2d_8\">\r\n      <g>\r\n       <use style=\"stroke:#000000;stroke-width:0.8;\" x=\"34.274787\" xlink:href=\"#mb67ddb2936\" y=\"130.209595\"/>\r\n      </g>\r\n     </g>\r\n     <g id=\"text_8\">\r\n      <!-- 300 -->\r\n      <g transform=\"translate(8.187287 134.008813)scale(0.1 -0.1)\">\r\n       <defs>\r\n        <path d=\"M 2597 2516 \r\nQ 3050 2419 3304 2112 \r\nQ 3559 1806 3559 1356 \r\nQ 3559 666 3084 287 \r\nQ 2609 -91 1734 -91 \r\nQ 1441 -91 1130 -33 \r\nQ 819 25 488 141 \r\nL 488 750 \r\nQ 750 597 1062 519 \r\nQ 1375 441 1716 441 \r\nQ 2309 441 2620 675 \r\nQ 2931 909 2931 1356 \r\nQ 2931 1769 2642 2001 \r\nQ 2353 2234 1838 2234 \r\nL 1294 2234 \r\nL 1294 2753 \r\nL 1863 2753 \r\nQ 2328 2753 2575 2939 \r\nQ 2822 3125 2822 3475 \r\nQ 2822 3834 2567 4026 \r\nQ 2313 4219 1838 4219 \r\nQ 1578 4219 1281 4162 \r\nQ 984 4106 628 3988 \r\nL 628 4550 \r\nQ 988 4650 1302 4700 \r\nQ 1616 4750 1894 4750 \r\nQ 2613 4750 3031 4423 \r\nQ 3450 4097 3450 3541 \r\nQ 3450 3153 3228 2886 \r\nQ 3006 2619 2597 2516 \r\nz\r\n\" id=\"DejaVuSans-33\" transform=\"scale(0.015625)\"/>\r\n       </defs>\r\n       <use xlink:href=\"#DejaVuSans-33\"/>\r\n       <use x=\"63.623047\" xlink:href=\"#DejaVuSans-30\"/>\r\n       <use x=\"127.246094\" xlink:href=\"#DejaVuSans-30\"/>\r\n      </g>\r\n     </g>\r\n    </g>\r\n    <g id=\"ytick_5\">\r\n     <g id=\"line2d_9\">\r\n      <g>\r\n       <use style=\"stroke:#000000;stroke-width:0.8;\" x=\"34.274787\" xlink:href=\"#mb67ddb2936\" y=\"100.439606\"/>\r\n      </g>\r\n     </g>\r\n     <g id=\"text_9\">\r\n      <!-- 350 -->\r\n      <g transform=\"translate(8.187287 104.238824)scale(0.1 -0.1)\">\r\n       <use xlink:href=\"#DejaVuSans-33\"/>\r\n       <use x=\"63.623047\" xlink:href=\"#DejaVuSans-35\"/>\r\n       <use x=\"127.246094\" xlink:href=\"#DejaVuSans-30\"/>\r\n      </g>\r\n     </g>\r\n    </g>\r\n    <g id=\"ytick_6\">\r\n     <g id=\"line2d_10\">\r\n      <g>\r\n       <use style=\"stroke:#000000;stroke-width:0.8;\" x=\"34.274787\" xlink:href=\"#mb67ddb2936\" y=\"70.669617\"/>\r\n      </g>\r\n     </g>\r\n     <g id=\"text_10\">\r\n      <!-- 400 -->\r\n      <g transform=\"translate(8.187287 74.468835)scale(0.1 -0.1)\">\r\n       <defs>\r\n        <path d=\"M 2419 4116 \r\nL 825 1625 \r\nL 2419 1625 \r\nL 2419 4116 \r\nz\r\nM 2253 4666 \r\nL 3047 4666 \r\nL 3047 1625 \r\nL 3713 1625 \r\nL 3713 1100 \r\nL 3047 1100 \r\nL 3047 0 \r\nL 2419 0 \r\nL 2419 1100 \r\nL 313 1100 \r\nL 313 1709 \r\nL 2253 4666 \r\nz\r\n\" id=\"DejaVuSans-34\" transform=\"scale(0.015625)\"/>\r\n       </defs>\r\n       <use xlink:href=\"#DejaVuSans-34\"/>\r\n       <use x=\"63.623047\" xlink:href=\"#DejaVuSans-30\"/>\r\n       <use x=\"127.246094\" xlink:href=\"#DejaVuSans-30\"/>\r\n      </g>\r\n     </g>\r\n    </g>\r\n    <g id=\"ytick_7\">\r\n     <g id=\"line2d_11\">\r\n      <g>\r\n       <use style=\"stroke:#000000;stroke-width:0.8;\" x=\"34.274787\" xlink:href=\"#mb67ddb2936\" y=\"40.899628\"/>\r\n      </g>\r\n     </g>\r\n     <g id=\"text_11\">\r\n      <!-- 450 -->\r\n      <g transform=\"translate(8.187287 44.698846)scale(0.1 -0.1)\">\r\n       <use xlink:href=\"#DejaVuSans-34\"/>\r\n       <use x=\"63.623047\" xlink:href=\"#DejaVuSans-35\"/>\r\n       <use x=\"127.246094\" xlink:href=\"#DejaVuSans-30\"/>\r\n      </g>\r\n     </g>\r\n    </g>\r\n    <g id=\"ytick_8\">\r\n     <g id=\"line2d_12\">\r\n      <g>\r\n       <use style=\"stroke:#000000;stroke-width:0.8;\" x=\"34.274787\" xlink:href=\"#mb67ddb2936\" y=\"11.129639\"/>\r\n      </g>\r\n     </g>\r\n     <g id=\"text_12\">\r\n      <!-- 500 -->\r\n      <g transform=\"translate(8.187287 14.928857)scale(0.1 -0.1)\">\r\n       <use xlink:href=\"#DejaVuSans-35\"/>\r\n       <use x=\"63.623047\" xlink:href=\"#DejaVuSans-30\"/>\r\n       <use x=\"127.246094\" xlink:href=\"#DejaVuSans-30\"/>\r\n      </g>\r\n     </g>\r\n    </g>\r\n   </g>\r\n   <g id=\"line2d_13\">\r\n    <path clip-path=\"url(#paa611cc2eb)\" d=\"M 49.492969 149.262388 \r\nL 150.947514 17.083636 \r\nL 252.40206 151.048587 \r\nL 353.856605 214.756364 \r\n\" style=\"fill:none;stroke:#0000ff;stroke-linecap:square;stroke-width:1.5;\"/>\r\n   </g>\r\n   <g id=\"patch_3\">\r\n    <path d=\"M 34.274787 224.64 \r\nL 34.274787 7.2 \r\n\" style=\"fill:none;stroke:#000000;stroke-linecap:square;stroke-linejoin:miter;stroke-width:0.8;\"/>\r\n   </g>\r\n   <g id=\"patch_4\">\r\n    <path d=\"M 369.074787 224.64 \r\nL 369.074787 7.2 \r\n\" style=\"fill:none;stroke:#000000;stroke-linecap:square;stroke-linejoin:miter;stroke-width:0.8;\"/>\r\n   </g>\r\n   <g id=\"patch_5\">\r\n    <path d=\"M 34.274787 224.64 \r\nL 369.074787 224.64 \r\n\" style=\"fill:none;stroke:#000000;stroke-linecap:square;stroke-linejoin:miter;stroke-width:0.8;\"/>\r\n   </g>\r\n   <g id=\"patch_6\">\r\n    <path d=\"M 34.274787 7.2 \r\nL 369.074787 7.2 \r\n\" style=\"fill:none;stroke:#000000;stroke-linecap:square;stroke-linejoin:miter;stroke-width:0.8;\"/>\r\n   </g>\r\n  </g>\r\n </g>\r\n <defs>\r\n  <clipPath id=\"paa611cc2eb\">\r\n   <rect height=\"217.44\" width=\"334.8\" x=\"34.274787\" y=\"7.2\"/>\r\n  </clipPath>\r\n </defs>\r\n</svg>\r\n",
      "image/png": "[encoded data removed]"
     },
     "metadata": {
      "needs_background": "light"
     }
    }
   ],
   "source": [
    "import matplotlib.pyplot as plt\n",
    "import numpy as np\n",
    "cur.execute(\"select 'Item Sales Delta' as attribute,count(1) as cnt from (select item_no,iip_update_date from rcmpc_cem.cem_cre_item_bu_range_t ccibrt union select item_no,iip_update_date from rcmpc_cem.cem_cre_item_bu_range_t ccibrt2 ) a where iip_update_date::date between to_Date('2019-06-04','YYYY-MM-DD') and  to_Date('2019-06-05','YYYY-MM-DD') UNION select 'Item CCL Delta' as attribute,count(1) as cnt from (select item_no,iip_update_date from rcmpc_cem.cem_cre_item_bu_comclass_t ccibct  union select item_no,iip_update_date from rcmpc_cem.cem_item_bu_comclass_t ccibrt2 ) a where iip_update_date::date between to_Date('2019-06-04','YYYY-MM-DD') and  to_Date('2019-06-05','YYYY-MM-DD') UNION select 'Item ROC Delta' as attribute,count(1) as cnt from (select item_no,iip_update_date from rcmpc_cem.cem_cre_item_rangeoffer_t ccirt   union select item_no,iip_update_date from rcmpc_cem.cem_item_rangeoffer_t ccibrt2 ) a where iip_update_date::date between to_Date('2019-06-04','YYYY-MM-DD') and  to_Date('2019-06-05','YYYY-MM-DD') UNION select 'Item ROCC Delta' as attribute,count(1) as cnt from (select item_no,iip_update_date from rcmpc_cem.cem_cre_item_rangeo_cri_t ccirct     union select item_no,iip_update_date from rcmpc_cem.cem_item_rangeoffer_cri_t circt2  ) a where iip_update_date::date between to_Date('2019-06-04','YYYY-MM-DD') and  to_Date('2019-06-05','YYYY-MM-DD');\")\n",
    "\n",
    "attribute = []\n",
    "cnt = []\n",
    "for rec in cur:\n",
    "  attribute.append(rec[0])\n",
    "  cnt.append(rec[1])\n",
    "np.asarray(attribute,dtype='S')\n",
    "np.asarray(cnt,dtype='float')\n",
    "\n",
    "\n",
    "plt.plot(attribute,cnt,color='blue', label='User Count')"
   ]
  },
  {
   "cell_type": "code",
   "execution_count": 15,
   "metadata": {},
   "outputs": [
    {
     "output_type": "error",
     "ename": "IndexError",
     "evalue": "tuple index out of range",
     "traceback": [
      "\u001b[1;31m---------------------------------------------------------------------------\u001b[0m",
      "\u001b[1;31mIndexError\u001b[0m                                Traceback (most recent call last)",
      "\u001b[1;32m<ipython-input-15-78ad25477bc9>\u001b[0m in \u001b[0;36m<module>\u001b[1;34m\u001b[0m\n\u001b[0;32m      9\u001b[0m   \u001b[0mitem_no\u001b[0m\u001b[1;33m.\u001b[0m\u001b[0mappend\u001b[0m\u001b[1;33m(\u001b[0m\u001b[0mrec\u001b[0m\u001b[1;33m[\u001b[0m\u001b[1;36m0\u001b[0m\u001b[1;33m]\u001b[0m\u001b[1;33m)\u001b[0m\u001b[1;33m\u001b[0m\u001b[1;33m\u001b[0m\u001b[0m\n\u001b[0;32m     10\u001b[0m   \u001b[0miip_insert_date\u001b[0m\u001b[1;33m.\u001b[0m\u001b[0mappend\u001b[0m\u001b[1;33m(\u001b[0m\u001b[0mrec\u001b[0m\u001b[1;33m[\u001b[0m\u001b[1;36m1\u001b[0m\u001b[1;33m]\u001b[0m\u001b[1;33m)\u001b[0m\u001b[1;33m\u001b[0m\u001b[1;33m\u001b[0m\u001b[0m\n\u001b[1;32m---> 11\u001b[1;33m   \u001b[0miip_update_date\u001b[0m\u001b[1;33m.\u001b[0m\u001b[0mappend\u001b[0m\u001b[1;33m(\u001b[0m\u001b[0mrec\u001b[0m\u001b[1;33m[\u001b[0m\u001b[1;36m2\u001b[0m\u001b[1;33m]\u001b[0m\u001b[1;33m)\u001b[0m\u001b[1;33m\u001b[0m\u001b[1;33m\u001b[0m\u001b[0m\n\u001b[0m\u001b[0;32m     12\u001b[0m \u001b[0mnp\u001b[0m\u001b[1;33m.\u001b[0m\u001b[0masarray\u001b[0m\u001b[1;33m(\u001b[0m\u001b[0mitem_no\u001b[0m\u001b[1;33m,\u001b[0m\u001b[0mdtype\u001b[0m\u001b[1;33m=\u001b[0m\u001b[1;34m'float'\u001b[0m\u001b[1;33m)\u001b[0m\u001b[1;33m\u001b[0m\u001b[1;33m\u001b[0m\u001b[0m\n\u001b[0;32m     13\u001b[0m \u001b[0mnp\u001b[0m\u001b[1;33m.\u001b[0m\u001b[0masarray\u001b[0m\u001b[1;33m(\u001b[0m\u001b[0miip_insert_date\u001b[0m\u001b[1;33m,\u001b[0m\u001b[0mdtype\u001b[0m\u001b[1;33m=\u001b[0m\u001b[1;34m'float'\u001b[0m\u001b[1;33m)\u001b[0m\u001b[1;33m\u001b[0m\u001b[1;33m\u001b[0m\u001b[0m\n",
      "\u001b[1;31mIndexError\u001b[0m: tuple index out of range"
     ]
    }
   ],
   "source": [
    "import matplotlib.pyplot as plt\n",
    "import numpy as np\n",
    "cur.execute(\"select 'Item Sales Delta' as attribute,count(1) as cnt from (select item_no,iip_update_date from rcmpc_cem.cem_cre_item_bu_range_t ccibrt union select item_no,iip_update_date from rcmpc_cem.cem_cre_item_bu_range_t ccibrt2 ) a where iip_update_date::date between to_Date('2019-06-04','YYYY-MM-DD') and  to_Date('2019-06-05','YYYY-MM-DD') UNION select 'Item CCL Delta' as attribute,count(1) as cnt from (select item_no,iip_update_date from rcmpc_cem.cem_cre_item_bu_comclass_t ccibct  union select item_no,iip_update_date from rcmpc_cem.cem_item_bu_comclass_t ccibrt2 ) a where iip_update_date::date between to_Date('2019-06-04','YYYY-MM-DD') and  to_Date('2019-06-05','YYYY-MM-DD') UNION select 'Item ROC Delta' as attribute,count(1) as cnt from (select item_no,iip_update_date from rcmpc_cem.cem_cre_item_rangeoffer_t ccirt   union select item_no,iip_update_date from rcmpc_cem.cem_item_rangeoffer_t ccibrt2 ) a where iip_update_date::date between to_Date('2019-06-04','YYYY-MM-DD') and  to_Date('2019-06-05','YYYY-MM-DD') UNION select 'Item ROCC Delta' as attribute,count(1) as cnt from (select item_no,iip_update_date from rcmpc_cem.cem_cre_item_rangeo_cri_t ccirct     union select item_no,iip_update_date from rcmpc_cem.cem_item_rangeoffer_cri_t circt2  ) a where iip_update_date::date between to_Date('2019-06-04','YYYY-MM-DD') and  to_Date('2019-06-05','YYYY-MM-DD');\")\n",
    "\n",
    "item_no = []\n",
    "iip_insert_date = []\n",
    "iip_update_date=[]\n",
    "for rec in cur:\n",
    "  item_no.append(rec[0])\n",
    "  iip_insert_date.append(rec[1])\n",
    "  iip_update_date.append(rec[2])\n",
    "np.asarray(item_no,dtype='float')\n",
    "np.asarray(iip_insert_date,dtype='float')\n",
    "np.asarray(iip_update_date,dtype='float')\n",
    "\n",
    "plt.plot(item_no, iip_insert_date,iip_update_date, color='blue', label='User Count')"
   ]
  },
  {
   "cell_type": "code",
   "execution_count": null,
   "metadata": {},
   "outputs": [],
   "source": [
    "x = np.linspace(0, 10, 30)\n",
    "y = np.sin(x)\n",
    "\n",
    "plt.plot(x, y, 'o', color='black');"
   ]
  },
  {
   "cell_type": "code",
   "execution_count": null,
   "metadata": {},
   "outputs": [],
   "source": [
    "cur = con.cursor()\n",
    "query=(\"select item_no ,iip_insert_date ,iip_update_date from rcmpc_cem.cem_item_bu_range_t cibrt\")\n",
    "outputquery = \"COPY ({0}) TO STDOUT WITH CSV HEADER\".format(query)\n",
    "\n",
    "with open('resultsfile', 'w') as f:\n",
    "    cur.copy_expert(outputquery, f)\n",
    "\n",
    "con.close()"
   ]
  },
  {
   "cell_type": "code",
   "execution_count": null,
   "metadata": {},
   "outputs": [],
   "source": []
  },
  {
   "cell_type": "code",
   "execution_count": null,
   "metadata": {},
   "outputs": [],
   "source": [
    "from tkinter import *\n",
    "root=Tk()\n",
    "w = Label(root, text=\"RDC JOB SCRIPT!\")\n",
    "w.pack()\n",
    "\n",
    "root.mainloop()\n"
   ]
  },
  {
   "cell_type": "code",
   "execution_count": null,
   "metadata": {},
   "outputs": [],
   "source": [
    "from PIL import ImageTk, Image\n",
    "import matplotlib.pyplot as plt"
   ]
  },
  {
   "cell_type": "code",
   "execution_count": null,
   "metadata": {},
   "outputs": [],
   "source": [
    "try:\n",
    "    import tkinter as tk\n",
    "    from tkinter import ttk\n",
    "except ImportError:\n",
    "    import Tkinter as tk\n",
    "    import ttk"
   ]
  },
  {
   "cell_type": "code",
   "execution_count": null,
   "metadata": {},
   "outputs": [],
   "source": [
    "from tkcalendar import Calendar, DateEntry\n",
    "def date_pic():\n",
    "    top = tk.Toplevel(root)\n",
    "\n",
    "    ttk.Label(top, text='Choose date').pack(padx=10, pady=10)\n",
    "\n",
    "    cal = DateEntry(top, width=12, background='darkblue',\n",
    "                    foreground='white',font={\"courier\",50}, borderwidth=2)\n",
    "    cal.pack(padx=10, pady=10)\n",
    "\n",
    "root = tk.Tk()\n",
    "s = ttk.Style(root)\n",
    "s.theme_use('clam')\n",
    "\n",
    "\n",
    "ttk.Button(root, text='DateEntry', command=date_pic).pack(padx=10, pady=10)\n",
    "\n",
    "root.mainloop()"
   ]
  },
  {
   "cell_type": "code",
   "execution_count": null,
   "metadata": {},
   "outputs": [],
   "source": [
    "from tkinter import *\n",
    "\n",
    "from tkcalendar import Calendar,DateEntry\n",
    "\n",
    "root = Tk()\n",
    "\n",
    "cal = DateEntry(root,width=30,bg=\"darkblue\",fg=\"white\",year=2010)\n",
    "\n",
    "cal.grid()\n",
    "\n",
    "root.mainloop()"
   ]
  },
  {
   "cell_type": "code",
   "execution_count": null,
   "metadata": {},
   "outputs": [],
   "source": [
    "from tkinter import *\n",
    "from tkinter import messagebox\n",
    "from PIL import ImageTk, Image\n",
    "\n",
    "root = Tk()\n",
    "\n",
    "C = Canvas(root, bg=\"blue\", height=250, width=300)\n",
    "filename = ImageTk.PhotoImage(Image.open(r\"C:\\Users\\dibha2\\download.jpg\"),master=root)\n",
    "background_label = Label(root, image=filename)\n",
    "background_label.image=filename\n",
    "background_label.place(x=0, y=0, relwidth=1, relheight=1)\n",
    "\n",
    "cal = DateEntry(root,width=30,bg=\"darkblue\",fg=\"white\",year=2010)\n",
    "\n",
    "cal.grid()\n",
    "\n",
    "C.pack()\n",
    "root.mainloop()"
   ]
  },
  {
   "cell_type": "code",
   "execution_count": null,
   "metadata": {},
   "outputs": [],
   "source": [
    "from tkinter import *\n",
    "from PIL import ImageTk, Image\n",
    "root = Tk()\n",
    "\n",
    "canv =Canvas(root, bg=\"blue\", height=750, width=600)\n",
    "canv.grid(row=3, column=3)\n",
    "\n",
    "img = ImageTk.PhotoImage(Image.open(r\"C:\\Users\\dibha2\\download.jpg\"),master=root)  # PIL solution\n",
    "canv.create_image(50, 50, anchor=NW, image=img)\n",
    "\n",
    "\n",
    "mainloop()"
   ]
  },
  {
   "cell_type": "code",
   "execution_count": null,
   "metadata": {},
   "outputs": [],
   "source": [
    "from flask import Flask\n",
    "app = Flask(__name__)\n",
    "@app.route('/')\n",
    "def index():\n",
    "    return 'RDC JOB AUTOMATION'\n",
    "\n",
    "app.run(host='0.0.0.0', port=81)\n"
   ]
  },
  {
   "cell_type": "code",
   "execution_count": null,
   "metadata": {},
   "outputs": [],
   "source": []
  }
 ]
}